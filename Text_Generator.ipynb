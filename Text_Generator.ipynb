{
  "nbformat": 4,
  "nbformat_minor": 0,
  "metadata": {
    "colab": {
      "provenance": [],
      "authorship_tag": "ABX9TyOXAt/Swk+Y6hIDGU8uhaO0",
      "include_colab_link": true
    },
    "kernelspec": {
      "name": "python3",
      "display_name": "Python 3"
    },
    "language_info": {
      "name": "python"
    }
  },
  "cells": [
    {
      "cell_type": "markdown",
      "metadata": {
        "id": "view-in-github",
        "colab_type": "text"
      },
      "source": [
        "<a href=\"https://colab.research.google.com/github/Villiander/GeneticAlgorithm/blob/main/Text_Generator.ipynb\" target=\"_parent\"><img src=\"https://colab.research.google.com/assets/colab-badge.svg\" alt=\"Open In Colab\"/></a>"
      ]
    },
    {
      "cell_type": "code",
      "execution_count": null,
      "metadata": {
        "colab": {
          "base_uri": "https://localhost:8080/"
        },
        "id": "3I52LhWNUBbk",
        "outputId": "e3cfadf3-b8d3-4148-be87-99e8335b7ae3"
      },
      "outputs": [
        {
          "output_type": "stream",
          "name": "stdout",
          "text": [
            "Generation: 1, Best Individual: GXDYJQrfCbGbezxLrwbehmv, Fitness: 2\n",
            "Generation: 2, Best Individual: xZekusBiUClMyF mmoKYhmv, Fitness: 3\n",
            "Generation: 4, Best Individual: KRyulJaDc qoup uzCtBVXO, Fitness: 4\n",
            "Generation: 5, Best Individual: KRyulJaav qoup urCtBhQm, Fitness: 7\n",
            "Generation: 7, Best Individual: KqyulJaiv xMuB urCtBhAm, Fitness: 8\n",
            "Generation: 10, Best Individual: KjyumFtDcUiXuB krCtYhDm, Fitness: 9\n",
            "Generation: 11, Best Individual: KjyumetDcExMuB urCtfhAm, Fitness: 10\n",
            "Generation: 14, Best Individual: KtyumeaivRxMuB krCtYhDm, Fitness: 11\n",
            "Generation: 15, Best Individual: KtBumeaiH xhuB urCtthQm, Fitness: 12\n",
            "Generation: 19, Best Individual: KUrumeaiHyvcul PrCuohjm, Fitness: 13\n",
            "Generation: 22, Best Individual: KuyumeaivRxhuB urCgthxm, Fitness: 14\n",
            "Generation: 26, Best Individual: KUrumeaiHRxhuB krCgtham, Fitness: 15\n",
            "Generation: 30, Best Individual: KQrsmeaiQRBhuc PrKetham, Fitness: 16\n",
            "Generation: 32, Best Individual: KuyumeaiXRaJKl PrKetham, Fitness: 17\n",
            "Generation: 35, Best Individual: KuMumeaifRxhul PrKetham, Fitness: 18\n",
            "Generation: 42, Best Individual: KurumediQRzhul Hreetham, Fitness: 19\n",
            "Generation: 48, Best Individual: KurumeXiQRahul Hreetham, Fitness: 20\n",
            "Generation: 52, Best Individual: KurumeXiQRahul Preetham, Fitness: 21\n",
            "Generation: 69, Best Individual: KurumetiRRahul Preetham, Fitness: 22\n",
            "Generation: 97, Best Individual: Kurumeti Rahul Preetham, Fitness: 23\n",
            "Solution Found!\n",
            "Generation: 97\n",
            "Best Individual: Kurumeti Rahul Preetham\n"
          ]
        }
      ],
      "source": [
        "import random\n",
        "import string\n",
        "\n",
        "# Target name\n",
        "target_name = \"Kurumeti Rahul Preetham\"\n",
        "\n",
        "# Function to generate a random individual\n",
        "def generate_individual():\n",
        "    return ''.join(random.choice(string.ascii_letters + ' ') for _ in range(len(target_name)))\n",
        "\n",
        "# Function to calculate fitness (number of correct characters)\n",
        "def fitness(individual):\n",
        "    return sum(1 for a, b in zip(individual, target_name) if a == b)\n",
        "\n",
        "# Function for crossover (single-point crossover)\n",
        "def crossover(parent1, parent2):\n",
        "    crossover_point = random.randint(0, len(target_name) - 1)\n",
        "    child1 = parent1[:crossover_point] + parent2[crossover_point:]\n",
        "    child2 = parent2[:crossover_point] + parent1[crossover_point:]\n",
        "    return child1, child2\n",
        "\n",
        "# Function for mutation\n",
        "def mutate(individual, mutation_rate):\n",
        "    return ''.join(c if random.random() < mutation_rate else random.choice(string.ascii_letters + ' ') for c in individual)\n",
        "\n",
        "# Function for parent selection (tournament selection)\n",
        "def select_parents(population, tournament_size):\n",
        "    selected_parents = []\n",
        "    for _ in range(len(population)):\n",
        "        tournament = random.sample(population, tournament_size)\n",
        "        selected_parents.append(max(tournament, key=fitness))\n",
        "    return selected_parents\n",
        "\n",
        "# Function for survival selection (keep the best individuals)\n",
        "def survival_selection(population, offspring):\n",
        "    combined_population = population + offspring\n",
        "    combined_population = sorted(combined_population, key=fitness, reverse=True)\n",
        "    return combined_population[:len(population)]\n",
        "\n",
        "# Genetic algorithm\n",
        "def genetic_algorithm(population_size, generations, crossover_rate, mutation_rate, tournament_size):\n",
        "    population = [generate_individual() for _ in range(population_size)]\n",
        "    best_fitness_prev_gen = 0\n",
        "\n",
        "    for generation in range(generations):\n",
        "        population = sorted(population, key=fitness, reverse=True)\n",
        "        best_solution = population[0]\n",
        "        current_fitness = fitness(best_solution)\n",
        "\n",
        "        if current_fitness > best_fitness_prev_gen:\n",
        "            print(f\"Generation: {generation + 1}, Best Individual: {best_solution}, Fitness: {current_fitness}\")\n",
        "\n",
        "        best_fitness_prev_gen = current_fitness\n",
        "\n",
        "        if current_fitness == len(target_name):\n",
        "            print(\"Solution Found!\")\n",
        "            print(\"Generation:\", generation + 1)\n",
        "            print(\"Best Individual:\", best_solution)\n",
        "            break\n",
        "\n",
        "        parents = select_parents(population, tournament_size)\n",
        "        offspring = []\n",
        "\n",
        "        for i in range(0, len(parents), 2):\n",
        "            parent1, parent2 = parents[i], parents[i + 1]\n",
        "            if random.random() < crossover_rate:\n",
        "                child1, child2 = crossover(parent1, parent2)\n",
        "            else:\n",
        "                child1, child2 = parent1, parent2\n",
        "\n",
        "            child1 = mutate(child1, mutation_rate)\n",
        "            child2 = mutate(child2, mutation_rate)\n",
        "\n",
        "            offspring.extend([child1, child2])\n",
        "\n",
        "        population = survival_selection(population, offspring)\n",
        "\n",
        "    if current_fitness != len(target_name):\n",
        "        print(\"No solution found.\")\n",
        "\n",
        "# Example usage\n",
        "genetic_algorithm(population_size=100, generations=10000, crossover_rate=0.8, mutation_rate=0.9, tournament_size=3)"
      ]
    }
  ]
}